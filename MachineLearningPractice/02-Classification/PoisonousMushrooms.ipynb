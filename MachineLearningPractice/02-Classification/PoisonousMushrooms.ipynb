{
 "cells": [
  {
   "cell_type": "markdown",
   "metadata": {},
   "source": [
    "# Importing the libraries"
   ]
  },
  {
   "cell_type": "code",
   "execution_count": 3,
   "metadata": {},
   "outputs": [],
   "source": [
    "import numpy as np\n",
    "import matplotlib.pyplot as plt\n",
    "import pandas as pd\n",
    "import os\n",
    "from keras.models import Sequential\n",
    "from keras.layers import Dense"
   ]
  },
  {
   "cell_type": "code",
   "execution_count": 4,
   "metadata": {
    "collapsed": true
   },
   "outputs": [],
   "source": [
    "dataset = pd.read_csv('data/mushrooms.csv')"
   ]
  },
  {
   "cell_type": "code",
   "execution_count": 5,
   "metadata": {
    "collapsed": true
   },
   "outputs": [],
   "source": [
    "X = dataset.iloc[:, 1:23].values\n",
    "y = dataset.iloc[:, 0].values"
   ]
  },
  {
   "cell_type": "markdown",
   "metadata": {},
   "source": [
    "# Encoding the variables"
   ]
  },
  {
   "cell_type": "code",
   "execution_count": 6,
   "metadata": {},
   "outputs": [
    {
     "name": "stdout",
     "output_type": "stream",
     "text": [
      "['e' 'p']\n",
      "--> 0,1\n",
      "\n"
     ]
    }
   ],
   "source": [
    "from sklearn.preprocessing import LabelEncoder, OneHotEncoder\n",
    "\n",
    "#class: 2\n",
    "labelencoder_y = LabelEncoder()\n",
    "y[:] = labelencoder_y.fit_transform(y[:])\n",
    "print(labelencoder_y.inverse_transform([0,1]))\n",
    "print(\"--> 0,1\\n\")"
   ]
  },
  {
   "cell_type": "code",
   "execution_count": 7,
   "metadata": {},
   "outputs": [
    {
     "name": "stdout",
     "output_type": "stream",
     "text": [
      "['b' 'c' 'f' 'k' 's' 'x']\n",
      "--> 0,1,2,3,4,5\n",
      "\n"
     ]
    }
   ],
   "source": [
    "#cap-shape: 6\n",
    "labelencoder0 = LabelEncoder()\n",
    "X[:,0] = labelencoder0.fit_transform(X[:,0])\n",
    "print(labelencoder0.inverse_transform([0,1,2,3,4,5]))\n",
    "print(\"--> 0,1,2,3,4,5\\n\")"
   ]
  },
  {
   "cell_type": "code",
   "execution_count": 8,
   "metadata": {},
   "outputs": [
    {
     "name": "stdout",
     "output_type": "stream",
     "text": [
      "['f' 'g' 's' 'y']\n",
      "--> 0,1,2,3\n",
      "\n"
     ]
    }
   ],
   "source": [
    "#cap-surface: 4\n",
    "labelencoder1 = LabelEncoder()\n",
    "X[:,1] = labelencoder1.fit_transform(X[:,1])\n",
    "print(labelencoder1.inverse_transform([0,1,2,3]))\n",
    "print(\"--> 0,1,2,3\\n\")"
   ]
  },
  {
   "cell_type": "code",
   "execution_count": 9,
   "metadata": {},
   "outputs": [
    {
     "name": "stdout",
     "output_type": "stream",
     "text": [
      "['b' 'c' 'e' 'g' 'n' 'p' 'r' 'u' 'w' 'y']\n",
      "--> 0,1,2,3,4,5,6,7,8,9\n",
      "\n"
     ]
    }
   ],
   "source": [
    "#cap-color: 10\n",
    "labelencoder2 = LabelEncoder()\n",
    "X[:,2] = labelencoder2.fit_transform(X[:,2])\n",
    "print(labelencoder2.inverse_transform([0,1,2,3,4,5,6,7,8,9]))\n",
    "print(\"--> 0,1,2,3,4,5,6,7,8,9\\n\")"
   ]
  },
  {
   "cell_type": "code",
   "execution_count": 10,
   "metadata": {},
   "outputs": [
    {
     "name": "stdout",
     "output_type": "stream",
     "text": [
      "['f' 't']\n",
      "--> 0,1\n",
      "\n"
     ]
    }
   ],
   "source": [
    "#bruises:2\n",
    "labelencoder3 = LabelEncoder()\n",
    "X[:,3] = labelencoder3.fit_transform(X[:,3])\n",
    "print(labelencoder3.inverse_transform([0,1]))\n",
    "print(\"--> 0,1\\n\")"
   ]
  },
  {
   "cell_type": "code",
   "execution_count": 11,
   "metadata": {},
   "outputs": [
    {
     "name": "stdout",
     "output_type": "stream",
     "text": [
      "['a' 'c' 'f' 'l' 'm' 'n' 'p' 's' 'y']\n",
      "--> 0,1,2,3,4,5,6,7,8\n",
      "\n"
     ]
    }
   ],
   "source": [
    "#odor:9\n",
    "labelencoder4 = LabelEncoder()\n",
    "X[:,4] = labelencoder4.fit_transform(X[:,4])\n",
    "print(labelencoder4.inverse_transform([0,1,2,3,4,5,6,7,8]))\n",
    "print(\"--> 0,1,2,3,4,5,6,7,8\\n\")"
   ]
  },
  {
   "cell_type": "code",
   "execution_count": 12,
   "metadata": {},
   "outputs": [
    {
     "name": "stdout",
     "output_type": "stream",
     "text": [
      "['a' 'f']\n",
      "--> 0,1\n",
      "\n"
     ]
    }
   ],
   "source": [
    "#gill-attachment:2\n",
    "labelencoder5 = LabelEncoder()\n",
    "X[:,5] = labelencoder5.fit_transform(X[:,5])\n",
    "print(labelencoder5.inverse_transform([0,1]))\n",
    "print(\"--> 0,1\\n\")"
   ]
  },
  {
   "cell_type": "code",
   "execution_count": 13,
   "metadata": {},
   "outputs": [
    {
     "name": "stdout",
     "output_type": "stream",
     "text": [
      "['c' 'w']\n",
      "--> 0,1\n",
      "\n"
     ]
    }
   ],
   "source": [
    "#gill-spacing:2\n",
    "labelencoder6 = LabelEncoder()\n",
    "X[:,6] = labelencoder6.fit_transform(X[:,6])\n",
    "print(labelencoder6.inverse_transform([0,1]))\n",
    "print(\"--> 0,1\\n\")"
   ]
  },
  {
   "cell_type": "code",
   "execution_count": 14,
   "metadata": {},
   "outputs": [
    {
     "name": "stdout",
     "output_type": "stream",
     "text": [
      "['b' 'n']\n",
      "--> 0,1\n",
      "\n"
     ]
    }
   ],
   "source": [
    "#gill-size:2\n",
    "labelencoder7 = LabelEncoder()\n",
    "X[:,7] = labelencoder7.fit_transform(X[:,7])\n",
    "print(labelencoder7.inverse_transform([0,1]))\n",
    "print(\"--> 0,1\\n\")"
   ]
  },
  {
   "cell_type": "code",
   "execution_count": 15,
   "metadata": {},
   "outputs": [
    {
     "name": "stdout",
     "output_type": "stream",
     "text": [
      "['b' 'e' 'g' 'h' 'k' 'n' 'o' 'p' 'r' 'u' 'w' 'y']\n",
      "--> 0,1,2,3,4,5,6,7,8,9,10,11\n",
      "\n"
     ]
    }
   ],
   "source": [
    "#gill-color:12\n",
    "labelencoder8 = LabelEncoder()\n",
    "X[:,8] = labelencoder8.fit_transform(X[:,8])\n",
    "print(labelencoder8.inverse_transform([0,1,2,3,4,5,6,7,8,9,10,11]))\n",
    "print(\"--> 0,1,2,3,4,5,6,7,8,9,10,11\\n\")"
   ]
  },
  {
   "cell_type": "code",
   "execution_count": 16,
   "metadata": {},
   "outputs": [
    {
     "name": "stdout",
     "output_type": "stream",
     "text": [
      "['e' 't']\n",
      "--> 0,1\n",
      "\n"
     ]
    }
   ],
   "source": [
    "#sta;l-shape:2\n",
    "labelencoder9 = LabelEncoder()\n",
    "X[:,9] = labelencoder9.fit_transform(X[:,9])\n",
    "print(labelencoder9.inverse_transform([0,1]))\n",
    "print(\"--> 0,1\\n\")"
   ]
  },
  {
   "cell_type": "code",
   "execution_count": 17,
   "metadata": {},
   "outputs": [
    {
     "name": "stdout",
     "output_type": "stream",
     "text": [
      "['?' 'b' 'c' 'e' 'r']\n",
      "--> 0,1,2,3,4\n",
      "\n"
     ]
    }
   ],
   "source": [
    "#stalk-root:5\n",
    "labelencoder10 = LabelEncoder()\n",
    "X[:,10] = labelencoder10.fit_transform(X[:,10])\n",
    "print(labelencoder10.inverse_transform([0,1,2,3,4]))\n",
    "print(\"--> 0,1,2,3,4\\n\")"
   ]
  },
  {
   "cell_type": "code",
   "execution_count": 18,
   "metadata": {},
   "outputs": [
    {
     "name": "stdout",
     "output_type": "stream",
     "text": [
      "['f' 'k' 's' 'y']\n",
      "--> 0,1,2,3\n",
      "\n"
     ]
    }
   ],
   "source": [
    "#stalk-surface-above-ring: 4\n",
    "labelencoder11 = LabelEncoder()\n",
    "X[:,11] = labelencoder11.fit_transform(X[:,11])\n",
    "print(labelencoder11.inverse_transform([0,1,2,3]))\n",
    "print(\"--> 0,1,2,3\\n\")"
   ]
  },
  {
   "cell_type": "code",
   "execution_count": 19,
   "metadata": {},
   "outputs": [
    {
     "name": "stdout",
     "output_type": "stream",
     "text": [
      "['f' 'k' 's']\n",
      "--> 0,1,2\n",
      "\n"
     ]
    }
   ],
   "source": [
    "#stalk-surface-below-ring: 3\n",
    "labelencoder12 = LabelEncoder()\n",
    "X[:,12] = labelencoder12.fit_transform(X[:,12])\n",
    "print(labelencoder12.inverse_transform([0,1,2]))\n",
    "print(\"--> 0,1,2\\n\")"
   ]
  },
  {
   "cell_type": "code",
   "execution_count": 20,
   "metadata": {},
   "outputs": [
    {
     "name": "stdout",
     "output_type": "stream",
     "text": [
      "['b' 'c' 'e' 'g' 'n' 'o' 'p' 'w' 'y']\n",
      "--> 0,1,2,3,4,5,6,7,8\n",
      "\n"
     ]
    }
   ],
   "source": [
    "#stalk-color-above-ring: 9\n",
    "labelencoder13 = LabelEncoder()\n",
    "X[:,13] = labelencoder13.fit_transform(X[:,13])\n",
    "print(labelencoder13.inverse_transform([0,1,2,3,4,5,6,7,8]))\n",
    "print(\"--> 0,1,2,3,4,5,6,7,8\\n\")"
   ]
  },
  {
   "cell_type": "code",
   "execution_count": 21,
   "metadata": {},
   "outputs": [
    {
     "name": "stdout",
     "output_type": "stream",
     "text": [
      "['b' 'c' 'e' 'g' 'n' 'o' 'p' 'w' 'y']\n",
      "--> 0,1,2,3,4,5,6,7,8\n",
      "\n"
     ]
    }
   ],
   "source": [
    "#stalk-color-below-ring: 9\n",
    "labelencoder14 = LabelEncoder()\n",
    "X[:,14] = labelencoder14.fit_transform(X[:,14])\n",
    "print(labelencoder14.inverse_transform([0,1,2,3,4,5,6,7,8]))\n",
    "print(\"--> 0,1,2,3,4,5,6,7,8\\n\")"
   ]
  },
  {
   "cell_type": "code",
   "execution_count": 22,
   "metadata": {},
   "outputs": [
    {
     "name": "stdout",
     "output_type": "stream",
     "text": [
      "['p']\n",
      "--> 0\n",
      "\n"
     ]
    }
   ],
   "source": [
    "#veil-type: 1\n",
    "labelencoder15 = LabelEncoder()\n",
    "X[:,15] = labelencoder15.fit_transform(X[:,15])\n",
    "print(labelencoder15.inverse_transform([0]))\n",
    "print(\"--> 0\\n\")"
   ]
  },
  {
   "cell_type": "code",
   "execution_count": 23,
   "metadata": {},
   "outputs": [
    {
     "name": "stdout",
     "output_type": "stream",
     "text": [
      "['n' 'o' 'w' 'y']\n",
      "--> 0,1,2,3\n",
      "\n"
     ]
    }
   ],
   "source": [
    "#veil-color: 4\n",
    "labelencoder16 = LabelEncoder()\n",
    "X[:,16] = labelencoder16.fit_transform(X[:,16])\n",
    "print(labelencoder16.inverse_transform([0,1,2,3]))\n",
    "print(\"--> 0,1,2,3\\n\")"
   ]
  },
  {
   "cell_type": "code",
   "execution_count": 24,
   "metadata": {},
   "outputs": [
    {
     "name": "stdout",
     "output_type": "stream",
     "text": [
      "['n' 'o' 't']\n",
      "--> 0,1,2\n",
      "\n"
     ]
    }
   ],
   "source": [
    "#ring-number: 3\n",
    "labelencoder17 = LabelEncoder()\n",
    "X[:,17] = labelencoder17.fit_transform(X[:,17])\n",
    "print(labelencoder17.inverse_transform([0,1,2]))\n",
    "print(\"--> 0,1,2\\n\")"
   ]
  },
  {
   "cell_type": "code",
   "execution_count": 25,
   "metadata": {},
   "outputs": [
    {
     "name": "stdout",
     "output_type": "stream",
     "text": [
      "['e' 'f' 'l' 'n' 'p']\n",
      "--> 0,1,2,3,4\n",
      "\n"
     ]
    }
   ],
   "source": [
    "#ring-type: 5\n",
    "labelencoder18 = LabelEncoder()\n",
    "X[:,18] = labelencoder18.fit_transform(X[:,18])\n",
    "print(labelencoder18.inverse_transform([0,1,2,3,4]))\n",
    "print(\"--> 0,1,2,3,4\\n\")"
   ]
  },
  {
   "cell_type": "code",
   "execution_count": 26,
   "metadata": {},
   "outputs": [
    {
     "name": "stdout",
     "output_type": "stream",
     "text": [
      "['b' 'h' 'k' 'n' 'o' 'r' 'u' 'w' 'y']\n",
      "--> 0,1,2,3,4,5,6,7,8\n",
      "\n"
     ]
    }
   ],
   "source": [
    "#spore-print-color: 9\n",
    "labelencoder19 = LabelEncoder()\n",
    "X[:,19] = labelencoder19.fit_transform(X[:,19])\n",
    "print(labelencoder19.inverse_transform([0,1,2,3,4,5,6,7,8]))\n",
    "print(\"--> 0,1,2,3,4,5,6,7,8\\n\")"
   ]
  },
  {
   "cell_type": "code",
   "execution_count": 27,
   "metadata": {},
   "outputs": [
    {
     "name": "stdout",
     "output_type": "stream",
     "text": [
      "['a' 'c' 'n' 's' 'v' 'y']\n",
      "--> 0,1,2,3,4,5\n",
      "\n"
     ]
    }
   ],
   "source": [
    "#population: 6\n",
    "labelencoder20 = LabelEncoder()\n",
    "X[:,20] = labelencoder20.fit_transform(X[:,20])\n",
    "print(labelencoder20.inverse_transform([0,1,2,3,4,5]))\n",
    "print(\"--> 0,1,2,3,4,5\\n\")"
   ]
  },
  {
   "cell_type": "code",
   "execution_count": 28,
   "metadata": {},
   "outputs": [
    {
     "name": "stdout",
     "output_type": "stream",
     "text": [
      "['d' 'g' 'l' 'm' 'p' 'u' 'w']\n",
      "--> 0,1,2,3,4,5\n",
      "\n"
     ]
    }
   ],
   "source": [
    "#habitat: 6\n",
    "labelencoder21 = LabelEncoder()\n",
    "X[:,21] = labelencoder21.fit_transform(X[:,21])\n",
    "print(labelencoder21.inverse_transform([0,1,2,3,4,5,6]))\n",
    "print(\"--> 0,1,2,3,4,5\\n\")"
   ]
  },
  {
   "cell_type": "markdown",
   "metadata": {},
   "source": [
    "# Splitting the dataset into the Training set and Test set"
   ]
  },
  {
   "cell_type": "code",
   "execution_count": 29,
   "metadata": {},
   "outputs": [
    {
     "name": "stderr",
     "output_type": "stream",
     "text": [
      "C:\\Users\\Ripti\\Anaconda3\\lib\\site-packages\\sklearn\\cross_validation.py:41: DeprecationWarning: This module was deprecated in version 0.18 in favor of the model_selection module into which all the refactored classes and functions are moved. Also note that the interface of the new CV iterators are different from that of this module. This module will be removed in 0.20.\n",
      "  \"This module will be removed in 0.20.\", DeprecationWarning)\n"
     ]
    }
   ],
   "source": [
    "from sklearn.cross_validation import train_test_split\n",
    "X_train, X_test, y_train, y_test = train_test_split(\n",
    "    X, y, test_size = 0.25, random_state = 0)"
   ]
  },
  {
   "cell_type": "markdown",
   "metadata": {},
   "source": [
    "# Create model\n",
    "\n",
    "* ReLU tends to converge better than sigmoid activation functions for when calculating gradients the  sigmoid function is saturated and tends to take longer. \n",
    "\n",
    "* Sigmoid function is good for classification at the final layer."
   ]
  },
  {
   "cell_type": "code",
   "execution_count": 30,
   "metadata": {
    "collapsed": true
   },
   "outputs": [],
   "source": [
    "model = Sequential()\n",
    "model.add(Dense(12, input_dim=22, activation='relu')) \n",
    "model.add(Dense(22, activation='relu'))\n",
    "model.add(Dense(1, activation='sigmoid'))"
   ]
  },
  {
   "cell_type": "markdown",
   "metadata": {},
   "source": [
    "# Compile model"
   ]
  },
  {
   "cell_type": "code",
   "execution_count": 31,
   "metadata": {
    "collapsed": true
   },
   "outputs": [],
   "source": [
    "model.compile(loss='binary_crossentropy', \n",
    "              optimizer='adam', metrics=['accuracy'])"
   ]
  },
  {
   "cell_type": "markdown",
   "metadata": {},
   "source": [
    "# Fit the model"
   ]
  },
  {
   "cell_type": "code",
   "execution_count": 32,
   "metadata": {},
   "outputs": [
    {
     "name": "stdout",
     "output_type": "stream",
     "text": [
      "Epoch 1/20\n",
      "6093/6093 [==============================] - 4s - loss: 0.2904 - acc: 0.8756     \n",
      "Epoch 2/20\n",
      "6093/6093 [==============================] - 2s - loss: 0.1655 - acc: 0.9371     \n",
      "Epoch 3/20\n",
      "6093/6093 [==============================] - 2s - loss: 0.1074 - acc: 0.9642     \n",
      "Epoch 4/20\n",
      "6093/6093 [==============================] - 2s - loss: 0.0654 - acc: 0.9787     \n",
      "Epoch 5/20\n",
      "6093/6093 [==============================] - 2s - loss: 0.0400 - acc: 0.9900     \n",
      "Epoch 6/20\n",
      "6093/6093 [==============================] - 2s - loss: 0.0252 - acc: 0.9944     \n",
      "Epoch 7/20\n",
      "6093/6093 [==============================] - 2s - loss: 0.0160 - acc: 0.9970     \n",
      "Epoch 8/20\n",
      "6093/6093 [==============================] - 2s - loss: 0.0111 - acc: 0.9989     \n",
      "Epoch 9/20\n",
      "6093/6093 [==============================] - 2s - loss: 0.0095 - acc: 0.9985     \n",
      "Epoch 10/20\n",
      "6093/6093 [==============================] - 2s - loss: 0.0071 - acc: 0.9989     \n",
      "Epoch 11/20\n",
      "6093/6093 [==============================] - 2s - loss: 0.0050 - acc: 0.9993     \n",
      "Epoch 12/20\n",
      "6093/6093 [==============================] - 2s - loss: 0.0035 - acc: 1.0000     \n",
      "Epoch 13/20\n",
      "6093/6093 [==============================] - 2s - loss: 0.0028 - acc: 1.0000     \n",
      "Epoch 14/20\n",
      "6093/6093 [==============================] - 2s - loss: 0.0025 - acc: 0.9995     \n",
      "Epoch 15/20\n",
      "6093/6093 [==============================] - 2s - loss: 0.0044 - acc: 0.9989     \n",
      "Epoch 16/20\n",
      "6093/6093 [==============================] - 2s - loss: 0.0022 - acc: 0.9997     \n",
      "Epoch 17/20\n",
      "6093/6093 [==============================] - 2s - loss: 0.0011 - acc: 1.0000     \n",
      "Epoch 18/20\n",
      "6093/6093 [==============================] - 2s - loss: 0.0039 - acc: 0.9987     \n",
      "Epoch 19/20\n",
      "6093/6093 [==============================] - 2s - loss: 9.3181e-04 - acc: 1.0000     \n",
      "Epoch 20/20\n",
      "6093/6093 [==============================] - 2s - loss: 7.8550e-04 - acc: 1.0000     \n"
     ]
    },
    {
     "data": {
      "text/plain": [
       "<keras.callbacks.History at 0x25b24e0f278>"
      ]
     },
     "execution_count": 32,
     "metadata": {},
     "output_type": "execute_result"
    }
   ],
   "source": [
    "model.fit(X_train, y_train, epochs=20, batch_size=10)"
   ]
  },
  {
   "cell_type": "markdown",
   "metadata": {},
   "source": [
    "# Verify the accuracy"
   ]
  },
  {
   "cell_type": "code",
   "execution_count": 33,
   "metadata": {},
   "outputs": [
    {
     "name": "stdout",
     "output_type": "stream",
     "text": [
      "1472/2031 [====================>.........] - ETA: 0s\n",
      "acc: 100.00%\n"
     ]
    }
   ],
   "source": [
    "scores = model.evaluate(X_test, y_test)\n",
    "print(\"\\n%s: %.2f%%\" % (model.metrics_names[1], scores[1]*100))"
   ]
  },
  {
   "cell_type": "markdown",
   "metadata": {},
   "source": [
    "# Conclusion"
   ]
  },
  {
   "cell_type": "markdown",
   "metadata": {},
   "source": [
    "* Here we dealt with 22 categorical features with over 8000 entries.\n",
    "* After variable encoding and splitting the data into training and test sets, we ran the deep learning model with RELU and Sigmoid activation functions.\n",
    "* After twenty epochs, the training data displayed that the model had achieved 100% accuracy, as well as the test data following the verification.\n",
    "* Although this model may be overfitted, because it was able to predict the test data with high accuracy, we can be comfortable using this model in the future.\n",
    "* It may be beneficial to test this model on a more diverse/ larger dataset, as high accuracies throw red flags for overfitting, and could be disastrous when we least expect it. However, since the model performs well on both training and test data, we can be fairly confident that the distinguishing features between poisonous and edible mushrooms are much more distinct than not."
   ]
  },
  {
   "cell_type": "code",
   "execution_count": 41,
   "metadata": {},
   "outputs": [],
   "source": [
    "model.save(\"mushrooms.ckpt\")"
   ]
  },
  {
   "cell_type": "code",
   "execution_count": 55,
   "metadata": {},
   "outputs": [
    {
     "data": {
      "text/plain": [
       "array([[ 0.94377422]], dtype=float32)"
      ]
     },
     "execution_count": 55,
     "metadata": {},
     "output_type": "execute_result"
    }
   ],
   "source": [
    "a = np.array([[0,0,0,0,0,0,0,0,0,0,0,0,0,0,0,0,0,0,0,0,0,0]])\n",
    "model.predict(a)\n"
   ]
  },
  {
   "cell_type": "code",
   "execution_count": null,
   "metadata": {},
   "outputs": [],
   "source": []
  },
  {
   "cell_type": "code",
   "execution_count": null,
   "metadata": {
    "collapsed": true
   },
   "outputs": [],
   "source": []
  }
 ],
 "metadata": {
  "kernelspec": {
   "display_name": "Python 3",
   "language": "python",
   "name": "python3"
  },
  "language_info": {
   "codemirror_mode": {
    "name": "ipython",
    "version": 3
   },
   "file_extension": ".py",
   "mimetype": "text/x-python",
   "name": "python",
   "nbconvert_exporter": "python",
   "pygments_lexer": "ipython3",
   "version": "3.6.3"
  }
 },
 "nbformat": 4,
 "nbformat_minor": 2
}
