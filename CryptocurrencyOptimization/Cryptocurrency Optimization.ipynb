{
 "cells": [
  {
   "cell_type": "markdown",
   "metadata": {},
   "source": [
    "# Import the libraries\n",
    "\n",
    ">Determines best portfolio allocation between BTC ETH ETC LTC DASH NEO ZEC XMR \n",
    "\n",
    ">Uses sharpe ratio, finds low volatility with high returns. Designed to be ran Monthly\n",
    "\n",
    ">Author: Samuel L. Peoples\n",
    "\n",
    ">Version date: 20171210\n",
    "\n",
    ">Latest run date: 20180110"
   ]
  },
  {
   "cell_type": "code",
   "execution_count": 12,
   "metadata": {
    "collapsed": true
   },
   "outputs": [],
   "source": [
    "from urllib.request import urlopen\n",
    "import matplotlib.pyplot as plt\n",
    "% matplotlib inline\n",
    "from bs4 import BeautifulSoup\n",
    "import pandas as pd\n",
    "import numpy as np\n",
    "import datetime\n",
    "import re\n",
    "import os"
   ]
  },
  {
   "cell_type": "markdown",
   "metadata": {},
   "source": [
    "# Build Crypto List Function\n",
    "\n",
    ">This function builds the individual lists for the three months,\n",
    "\n",
    ">For BTC ETH ETC LTC DASH NEO ZEC, XMR the function will pull Time, High price (USD), Low price (USD), Open Price (USD)  Close price (USD), Volume From, Volume To, and the Percent Returns\n",
    "\n",
    ">It will then save the data to [name]CurrencyHLOC.csv"
   ]
  },
  {
   "cell_type": "code",
   "execution_count": 3,
   "metadata": {
    "collapsed": true
   },
   "outputs": [],
   "source": [
    "def buildCrpytoList(html, name):\n",
    "    list = []\n",
    "    htmlOpen = urlopen(html)\n",
    "    htmlSoup = BeautifulSoup(htmlOpen, 'html.parser')\n",
    "    htmlRows = str(htmlSoup).split('[')\n",
    "    del(htmlRows[0])\n",
    "    del(htmlRows[0])\n",
    "    del(htmlRows[0])\n",
    "    for i in range(htmlRows.__len__()-1):\n",
    "        htmlRows[i] = str(htmlRows[i]).split(']')[0]\n",
    "    htmlRows[htmlRows.__len__()-1] = str(\n",
    "        htmlRows[htmlRows.__len__()-1]).split(']')[0]\n",
    "    for row in htmlRows:\n",
    "        if row == '':\n",
    "            break\n",
    "        items = row.split(\",\")\n",
    "        \n",
    "        returns = returnVal(float(items[1]),float(items[4]))\n",
    "        entry = {\n",
    "            \"Time\":timeFix(items[0]), \n",
    "            name+\"Close\":items[4], \n",
    "            name+\"High\":items[2], \n",
    "            name+\"Low\":items[3], \n",
    "            name+\"Open\":items[1], \n",
    "            name+\"Volume\":items[5], \n",
    "            name+\"Returns\":str(returns)}\n",
    "        list.append(entry)\n",
    "    df = pd.DataFrame(list)\n",
    "    df.reindex(columns = [\"Time\",name+\"High\", name+\"Low\", \n",
    "                          name+\"Open\",name+\"Close\", name+\"Volume\", \n",
    "                          name+\"Returns\"]).to_csv(name+\"CurrencyHLOC.csv\", \n",
    "                                                  header ={\"Time\",\"High\", \n",
    "                                                           \"Low\", \"Open\",\n",
    "                                                           \"Close\", \"Volume\"})\n",
    "    return df\n"
   ]
  },
  {
   "cell_type": "markdown",
   "metadata": {},
   "source": [
    "# Helper Functions\n",
    "\n",
    ">This function converts timestamps to place legible timestamps in the dataset"
   ]
  },
  {
   "cell_type": "code",
   "execution_count": 4,
   "metadata": {
    "collapsed": true
   },
   "outputs": [],
   "source": [
    "def timeFix(timestamp):\n",
    "    return(datetime.datetime.fromtimestamp(\n",
    "        int(timestamp)).strftime('%Y-%m-%d %H:%M:%S'))"
   ]
  },
  {
   "cell_type": "markdown",
   "metadata": {},
   "source": [
    "> This function bypasses divZero errors."
   ]
  },
  {
   "cell_type": "code",
   "execution_count": 5,
   "metadata": {
    "collapsed": true
   },
   "outputs": [],
   "source": [
    "def returnVal(num, den):\n",
    "    if den <=0:\n",
    "        return 0\n",
    "    else:\n",
    "        diff = den-num\n",
    "        return diff/num"
   ]
  },
  {
   "cell_type": "markdown",
   "metadata": {},
   "source": [
    "# Build Master List Function\n",
    "\n",
    ">This fucntion builds the master list by merging all currency lists by date.\n",
    "\n",
    ">It will then save the data to MasterCurrencyHLOC.csv"
   ]
  },
  {
   "cell_type": "code",
   "execution_count": 7,
   "metadata": {
    "collapsed": true
   },
   "outputs": [],
   "source": [
    "def buildMaster(coins, coinsNames, backTesting):\n",
    "    masterList = []\n",
    "    for i in range(8):\n",
    "        masterList.append(buildCrpytoList(coins[i], coinsNames[i]))\n",
    "    masterDF = masterList[0].merge(masterList[1], left_on = \"Time\",\n",
    "                                   right_on = 'Time', how= 'outer').merge(\n",
    "        masterList[2], left_on = \"Time\", right_on = 'Time', how= 'outer').merge(\n",
    "        masterList[3], left_on = \"Time\", right_on = 'Time', how= 'outer').merge(\n",
    "        masterList[4], left_on = \"Time\", right_on = 'Time', how= 'outer').merge(\n",
    "        masterList[5], left_on = \"Time\", right_on = 'Time', how= 'outer').merge(\n",
    "        masterList[6], left_on = \"Time\", right_on = 'Time', how= 'outer').merge(\n",
    "        masterList[7], left_on = \"Time\", right_on = 'Time', how= 'outer')\n",
    "    masterDF.reindex(columns = [\n",
    "        \"Time\",\n",
    "        coinsNames[0]+\"High\",coinsNames[0]+\"Low\",coinsNames[0]\n",
    "        +\"Open\",coinsNames[0]+\"Close\",coinsNames[0]+\"Volume\",coinsNames[0]+\"Returns\",\n",
    "        coinsNames[1]+\"High\",coinsNames[1]+\"Low\",coinsNames[1]\n",
    "        +\"Open\",coinsNames[1]+\"Close\",coinsNames[1]+\"Volume\",coinsNames[1]+\"Returns\",\n",
    "        coinsNames[2]+\"High\",coinsNames[2]+\"Low\",coinsNames[2]\n",
    "        +\"Open\",coinsNames[2]+\"Close\",coinsNames[2]+\"Volume\",coinsNames[2]+\"Returns\",\n",
    "        coinsNames[3]+\"High\",coinsNames[3]+\"Low\",coinsNames[3]\n",
    "        +\"Open\",coinsNames[3]+\"Close\",coinsNames[3]+\"Volume\",coinsNames[3]+\"Returns\",\n",
    "        coinsNames[4]+\"High\",coinsNames[4]+\"Low\",coinsNames[4]\n",
    "        +\"Open\",coinsNames[4]+\"Close\",coinsNames[4]+\"Volume\",coinsNames[4]+\"Returns\",\n",
    "        coinsNames[5]+\"High\",coinsNames[5]+\"Low\",coinsNames[5]\n",
    "        +\"Open\",coinsNames[5]+\"Close\",coinsNames[5]+\"Volume\",coinsNames[5]+\"Returns\",\n",
    "        coinsNames[6]+\"High\",coinsNames[6]+\"Low\",coinsNames[6]\n",
    "        +\"Open\",coinsNames[6]+\"Close\",coinsNames[6]+\"Volume\",coinsNames[6]+\"Returns\",\n",
    "        coinsNames[7]+\"High\",coinsNames[7]+\"Low\",coinsNames[7]\n",
    "        +\"Open\",coinsNames[7]+\"Close\",coinsNames[7]+\"Volume\",coinsNames[7]+\"Returns\",]\n",
    "        ).to_csv(\n",
    "            \"MasterCurrencyHLOC.csv\", header ={\"Time\",\"High\", \n",
    "                                               \"Low\", \"Open\", \"Close\",\"Volume\"})\n",
    "    \n",
    "    return masterList"
   ]
  },
  {
   "cell_type": "markdown",
   "metadata": {},
   "source": [
    "# Calculate and populate returns\n",
    "\n",
    ">This function builds the list of percent returns, prints the percent returns for today and average percent returns for the three months. \n",
    "\n",
    ">It will then save the data to returns.csv"
   ]
  },
  {
   "cell_type": "code",
   "execution_count": 8,
   "metadata": {
    "collapsed": true
   },
   "outputs": [],
   "source": [
    "def buildReturns():\n",
    "    data = pd.read_csv('MasterCurrencyHLOC.csv')\n",
    "    data.set_index('Time',inplace=True)\n",
    "    returns = data.drop(data.columns[[0,1,2,3,4,5,7,8,9,10,\n",
    "                                      11,13,14,15,16,17,19,\n",
    "                                      20,21,22,23,25,26,27,\n",
    "                                      28,29,31,32,33,34,35,\n",
    "                                      37,38,39,40,41,43,44,\n",
    "                                      45,46,47]],axis =1)\n",
    "    returns.to_csv(\"returns.csv\")\n",
    "    print (\"Percent Returns on Closure:\")\n",
    "    print(returns.ix[-1])\n",
    "    print()\n",
    "    print(\"Average Percent Returns on Closure:\")\n",
    "    print(returns.mean())\n",
    "    return returns"
   ]
  },
  {
   "cell_type": "markdown",
   "metadata": {},
   "source": [
    "# Optimization\n",
    "\n",
    ">This function will develop 50,000 randomized portfolios, and find the portfolio with the highest sharpe ratio. (https://www.investopedia.com/terms/s/sharperatio.asp)\n",
    "\n",
    ">It then saves the results to sharpeRatios50kResults.csv and passes them to be plotted."
   ]
  },
  {
   "cell_type": "code",
   "execution_count": 9,
   "metadata": {
    "collapsed": true
   },
   "outputs": [],
   "source": [
    "def optimize(masterList, returns):\n",
    "    mean_returns = returns.mean()\n",
    "    matCov = returns.cov()\n",
    "    coins = [\"btc\", \"eth\", \"etc\", \"ltc\", \"dash\", \"neo\", \"zec\", \"xmr\"]\n",
    "    port = 50000\n",
    "    results = np.zeros((4 + len(coins)-1, port))\n",
    "    for i in range(port):\n",
    "        weights = np.array(np.random.random(8))\n",
    "        weights /= np.sum(weights)\n",
    "        port_return = np.sum(mean_returns*weights)*1140\n",
    "        port_stdv = np.sqrt(np.dot(weights.T,np.dot(matCov, weights)))*np.sqrt(1140)\n",
    "        #Returns based on this portfolio\n",
    "        results[0,i] = port_return\n",
    "        #standard deviation based on this portfolio\n",
    "        results[1,i] = port_stdv\n",
    "        #Variance of this portfolio\n",
    "        results[2,i] = results[0,i]/ (results[1,i])\n",
    "        \n",
    "        #3: BTC\n",
    "        #4: ETH\n",
    "        #5: ETC\n",
    "        #6: LTC\n",
    "        #7: DASH\n",
    "        #8: NEO\n",
    "        #9: ZEC\n",
    "        #10: XMR\n",
    "        for j in range(len(weights)):\n",
    "            results[j+3,i]= weights[j]\n",
    "    pd.DataFrame(results).to_csv(\"sharpeRatios50kResults.csv\")\n",
    "    plotResults(results)"
   ]
  },
  {
   "cell_type": "markdown",
   "metadata": {},
   "source": [
    "# Plot the results\n",
    "\n",
    ">This function will develop the scatterplot of 50,000 portfolios, x = Volatility, y = Returns\n",
    "\n",
    ">It then saves the figure to sharpeRatios50k.png.\n",
    "\n",
    ">The function will then print the suggested portfolio allocation, and save the contents to recommendedPortfolio.csv"
   ]
  },
  {
   "cell_type": "code",
   "execution_count": 10,
   "metadata": {
    "collapsed": true
   },
   "outputs": [],
   "source": [
    "def plotResults(results):\n",
    "    heat = results[0]/(results[2])\n",
    "    scatter = []\n",
    "    for i in range(50000):\n",
    "        scatter.append([str(results[2][i]), \n",
    "                           str(results[0][i]),\n",
    "                           \"BTC: \"+str(results[3][i]),\n",
    "                            \"ETH: \"+str(results[4][i]),\n",
    "                            \"ETC: \"+str(results[5][i]),\n",
    "                            \"LTC: \"+str(results[6][i]),\n",
    "                            \"DASH: \"+str(results[7][i]),\n",
    "                            \"NEO: \"+str(results[8][i]),\n",
    "                            \"ZEC: \"+str(results[9][i]),\n",
    "                            \"XMR: \"+str(results[10][i])])\n",
    "        if results[0][i]/results[2][i] == max(heat):\n",
    "            maxX = results[2][i]\n",
    "            maxY = (results[0][i])\n",
    "            recommendedPortfolio = [\n",
    "            \"Recommended Portfolio Distribution:\",\n",
    "            \"BTC: \"+str(results[3][i]),\n",
    "            \"ETH: \"+str(results[4][i]),\n",
    "            \"ETC: \"+str(results[5][i]),\n",
    "            \"LTC: \"+str(results[6][i]),\n",
    "            \"DASH: \"+str(results[7][i]),\n",
    "            \"NEO: \"+str(results[8][i]),\n",
    "            \"ZEC: \"+str(results[9][i]),\n",
    "            \"XMR: \"+str(results[10][i])]\n",
    "    plt.scatter(x = results[2], y = results[0], c=[str(point/255) for point in heat])\n",
    "    plt.scatter(x = maxX, y = maxY, c = 200, s = 75, alpha = .2)\n",
    "    plt.title('50,000 Portfolios, Sharpe Ratio')\n",
    "    plt.xlabel('Volatility')\n",
    "    plt.ylabel('Returns')\n",
    "    plt.savefig(\"sharpeRatios50k.png\")\n",
    "    print()\n",
    "    for line in recommendedPortfolio:\n",
    "        print(line)\n",
    "    pd.DataFrame(scatter).to_csv(\"scatterPoints.csv\")\n",
    "    pd.DataFrame(recommendedPortfolio).to_csv(\"recommendedPortfolio.csv\")\n",
    "    plt.show()"
   ]
  },
  {
   "cell_type": "markdown",
   "metadata": {},
   "source": [
    "# Go Wild\n",
    "\n",
    "> Define the api locations and let her rip"
   ]
  },
  {
   "cell_type": "code",
   "execution_count": 11,
   "metadata": {},
   "outputs": [
    {
     "name": "stdout",
     "output_type": "stream",
     "text": [
      "Percent Returns on Closure:\n",
      "btcReturns    -0.013504\n",
      "ethReturns    -0.030195\n",
      "etcReturns    -0.049800\n",
      "ltcReturns    -0.031777\n",
      "dashReturns   -0.035785\n",
      "neoReturns    -0.046518\n",
      "zecReturns    -0.069189\n",
      "xmrReturns    -0.036899\n",
      "Name: 2018-01-11 00:00:00, dtype: float64\n",
      "\n",
      "Average Percent Returns on Closure:\n",
      "btcReturns     0.002251\n",
      "ethReturns     0.002921\n",
      "etcReturns     0.002924\n",
      "ltcReturns     0.003391\n",
      "dashReturns    0.002838\n",
      "neoReturns     0.003489\n",
      "zecReturns     0.002657\n",
      "xmrReturns     0.003389\n",
      "dtype: float64\n"
     ]
    },
    {
     "name": "stderr",
     "output_type": "stream",
     "text": [
      "C:\\Users\\Ripti\\Anaconda3\\lib\\site-packages\\ipykernel_launcher.py:12: DeprecationWarning: \n",
      ".ix is deprecated. Please use\n",
      ".loc for label based indexing or\n",
      ".iloc for positional indexing\n",
      "\n",
      "See the documentation here:\n",
      "http://pandas.pydata.org/pandas-docs/stable/indexing.html#ix-indexer-is-deprecated\n",
      "  if sys.path[0] == '':\n"
     ]
    },
    {
     "name": "stdout",
     "output_type": "stream",
     "text": [
      "\n",
      "Recommended Portfolio Distribution:\n",
      "BTC: 0.0021076267919\n",
      "ETH: 0.0893510945295\n",
      "ETC: 0.287048272754\n",
      "LTC: 0.0406171784081\n",
      "DASH: 0.000358525253673\n",
      "NEO: 0.450344662471\n",
      "ZEC: 0.129367477968\n",
      "XMR: 0.000805161823629\n"
     ]
    },
    {
     "data": {
      "image/png": "[encoded data removed]",
      "text/plain": [
       "<matplotlib.figure.Figure at 0x1923eeb0e80>"
      ]
     },
     "metadata": {},
     "output_type": "display_data"
    }
   ],
   "source": [
    "backTesting = True\n",
    "path = re.split(\" \",str(datetime.datetime.today()))[0]\n",
    "if not os.path.exists(path):\n",
    "    os.makedirs(path)\n",
    "os.chdir(path)\n",
    "btc = \"https://api.cryptowat.ch/markets/bitfinex/btcusd/ohlc\"\n",
    "eth = \"https://api.cryptowat.ch/markets/bitfinex/ethusd/ohlc\"\n",
    "etc = \"https://api.cryptowat.ch/markets/bitfinex/etcusd/ohlc\"\n",
    "ltc = \"https://api.cryptowat.ch/markets/bitfinex/ltcusd/ohlc\"\n",
    "dash =\"https://api.cryptowat.ch/markets/bitfinex/dashusd/ohlc\"\n",
    "neo = \"https://api.cryptowat.ch/markets/bitfinex/neousd/ohlc\"\n",
    "zec = \"https://api.cryptowat.ch/markets/bitfinex/zecusd/ohlc\"\n",
    "xmr = \"https://api.cryptowat.ch/markets/bitfinex/xmrusd/ohlc\"\n",
    "coins = [btc, eth, etc, ltc, dash, neo, zec, xmr]\n",
    "coinsNames = [\"btc\", \"eth\", \"etc\", \"ltc\", \"dash\", \"neo\", \"zec\", \"xmr\"]\n",
    "masterList = buildMaster(coins, coinsNames, backTesting) \n",
    "optimize(masterList, buildReturns())"
   ]
  }
 ],
 "metadata": {
  "kernelspec": {
   "display_name": "Python 3",
   "language": "python",
   "name": "python3"
  },
  "language_info": {
   "codemirror_mode": {
    "name": "ipython",
    "version": 3
   },
   "file_extension": ".py",
   "mimetype": "text/x-python",
   "name": "python",
   "nbconvert_exporter": "python",
   "pygments_lexer": "ipython3",
   "version": "3.6.3"
  }
 },
 "nbformat": 4,
 "nbformat_minor": 2
}
